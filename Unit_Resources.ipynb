{
  "nbformat": 4,
  "nbformat_minor": 0,
  "metadata": {
    "colab": {
      "name": "Unit_Resources.ipynb",
      "provenance": [],
      "authorship_tag": "ABX9TyMFXDHuhEDvAK6RA+RU6G86",
      "include_colab_link": true
    },
    "kernelspec": {
      "name": "python3",
      "display_name": "Python 3"
    }
  },
  "cells": [
    {
      "cell_type": "markdown",
      "metadata": {
        "id": "view-in-github",
        "colab_type": "text"
      },
      "source": [
        "<a href=\"https://colab.research.google.com/github/jacobpad/my_collections/blob/master/Unit_Resources.ipynb\" target=\"_parent\"><img src=\"https://colab.research.google.com/assets/colab-badge.svg\" alt=\"Open In Colab\"/></a>"
      ]
    },
    {
      "cell_type": "markdown",
      "metadata": {
        "id": "c6EE0PLp8cEe",
        "colab_type": "text"
      },
      "source": [
        "***********************\n",
        "DISCLAIMER - THESE MAY LIKELY BE OUT OF ORDER. I TRIED TO PUT THEM IN SOME SORT OF LOGICAL ORDER, BUT CAN'T PROMISE THEY'RE IN ORDER, BECAUSE \n",
        "- 1) I PROBABLY MESSED SOMETHING UP SOMEWHERE\n",
        "- 2) LAMBDA SCHOOL REGURALERY CHANGES THINGS AROUND, SO EVEN IF I HAD THEM IN ORDER, THEY COULD APPEAR MESSED UP\n",
        "***********************"
      ]
    },
    {
      "cell_type": "markdown",
      "metadata": {
        "id": "Odnyi3a_sTEZ",
        "colab_type": "text"
      },
      "source": [
        "# Unit 3 Resources (mostly videos)"
      ]
    },
    {
      "cell_type": "markdown",
      "metadata": {
        "id": "GWbGi9U0uRSF",
        "colab_type": "text"
      },
      "source": [
        "## Sprint 1"
      ]
    },
    {
      "cell_type": "markdown",
      "metadata": {
        "id": "VtXquCl9sgQi",
        "colab_type": "text"
      },
      "source": [
        "### A 4 part series in DS12 from a TL (Evidence) \n",
        "This video series shows you these things from beginning to end, step by step.\n",
        "- Create and Clone a GitHub repo\n",
        "- Set up a virtual environment,\n",
        "- Build a function in python\n",
        "- Build a class in python\n",
        "- Import from one python file to Jupyter notebook to test functions and classes\n",
        "- Deploy it as a package\n",
        "- Import the package into Colab\n",
        "- Try to use the package on a data frame.\n",
        " - [video_1](https://www.youtube.com/watch?v=RATN2D2TwDU)\n",
        " - [video_2](https://www.youtube.com/watch?v=fAD-hFbcsCQ&t=168s)  \n",
        " - [video_3](https://www.youtube.com/watch?v=sfayKe5EIts)  \n",
        " - [video_4](https://www.youtube.com/watch?v=bWjP8GHz-VU)  "
      ]
    },
    {
      "cell_type": "markdown",
      "metadata": {
        "id": "z3rHerNXuKji",
        "colab_type": "text"
      },
      "source": [
        "## Sprint 2"
      ]
    },
    {
      "cell_type": "markdown",
      "metadata": {
        "id": "KCXaTBJTuj4D",
        "colab_type": "text"
      },
      "source": [
        "[support hours SQL](https://youtu.be/Un-FDC16vdM)  "
      ]
    },
    {
      "cell_type": "markdown",
      "metadata": {
        "id": "mk3dhk4wuYXv",
        "colab_type": "text"
      },
      "source": [
        "## Sprint 3"
      ]
    },
    {
      "cell_type": "markdown",
      "metadata": {
        "id": "bNjyvNAMubo5",
        "colab_type": "text"
      },
      "source": [
        "[Unit 3 Sprint 3 Module 1 Review](https://youtu.be/e_3x4E7DwqE)  \n",
        "[U3_S3_M1 Evening After Hours With Brandon](https://youtu.be/yjRf9CqxMMo)  \n",
        "[After hours FLASK](https://youtu.be/1jt4A4uAfHQ?t=1)  \n",
        "[AH Flask App Review](https://youtu.be/Ih7ThA1EoKo) openaq  \n",
        "[Unit 3 Sprint 3 Review w/ Aaron](https://youtu.be/0NJZXuOplfw)  "
      ]
    },
    {
      "cell_type": "markdown",
      "metadata": {
        "id": "l1C4IpRY6YLb",
        "colab_type": "text"
      },
      "source": [
        "# Unit 4 resources"
      ]
    },
    {
      "cell_type": "markdown",
      "metadata": {
        "id": "YjW8P93e6l4a",
        "colab_type": "text"
      },
      "source": [
        "[U4_S1_M1-3 AH with Brandon](https://youtu.be/ZRAwIOLASS8?t=5)  \n",
        "[U4_S1_M2-4 AH with Brandon](https://www.youtube.com/watch?v=j8bnL8U-0aI)  \n",
        "[Topic Modeling in Python: Latent Dirichlet Allocation (LDA)](https://www.youtube.com/watch?v=ghTW2vsked4&t=326s)  \n",
        "[Perceptron and Back-propagation](https://www.youtube.com/watch?v=DIY7YJeMgUM&t=1083s)  \n",
        "[After Hours review for Sprint 2](https://www.youtube.com/watch?v=3wup8mcpnY8&t=1053s)  \n",
        "[]()  \n",
        "[]()  \n",
        "[]()  "
      ]
    }
  ]
}